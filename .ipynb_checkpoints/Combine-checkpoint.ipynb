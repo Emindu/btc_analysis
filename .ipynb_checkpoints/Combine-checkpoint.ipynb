{
 "cells": [
  {
   "cell_type": "code",
   "execution_count": null,
   "id": "295ef1d7",
   "metadata": {},
   "outputs": [],
   "source": [
    "import pandas as pd\n",
    "import pandas_ta as ta\n",
    "import matplotlib.pyplot as plt\n",
    "import seaborn as sns\n",
    "from sklearn.linear_model import LogisticRegression\n",
    "from sklearn.model_selection import train_test_split\n",
    "from sklearn.metrics import accuracy_score, precision_score, recall_score, f1_score, r2_score\n",
    "from datetime import datetime\n",
    "import seaborn as sns\n",
    "import numpy as np\n",
    "from sklearn.metrics import confusion_matrix, accuracy_score,classification_report,roc_curve,roc_auc_score\n",
    "from sklearn.ensemble import RandomForestClassifier\n"
   ]
  },
  {
   "cell_type": "code",
   "execution_count": null,
   "id": "5ad58efc",
   "metadata": {},
   "outputs": [],
   "source": [
    "df_btc = pd.read_csv('data/cleaned/btc_1h.csv',  low_memory=False)\n",
    "df_btc_1d = pd.read_csv('data/cleaned/btc_1d.csv',  low_memory=False)\n",
    "df_btc.head()"
   ]
  },
  {
   "cell_type": "code",
   "execution_count": null,
   "id": "a7ce8edc",
   "metadata": {},
   "outputs": [],
   "source": [
    "df_btc['date'] = pd.to_datetime(df_btc['date'])  \n",
    "df_btc.loc[df_btc['date'].dt.hour==23]"
   ]
  },
  {
   "cell_type": "code",
   "execution_count": null,
   "id": "098e9e76",
   "metadata": {},
   "outputs": [],
   "source": [
    "import plotly.graph_objects as go\n"
   ]
  },
  {
   "cell_type": "code",
   "execution_count": null,
   "id": "00c1193b",
   "metadata": {},
   "outputs": [],
   "source": []
  },
  {
   "cell_type": "code",
   "execution_count": null,
   "id": "28bf2e8d",
   "metadata": {},
   "outputs": [],
   "source": [
    "df_btc.columns"
   ]
  },
  {
   "cell_type": "code",
   "execution_count": null,
   "id": "3a84fb37",
   "metadata": {},
   "outputs": [],
   "source": [
    "df_btc[['1h_candle_f','1h_candle_rank_f']]"
   ]
  },
  {
   "cell_type": "code",
   "execution_count": null,
   "id": "bd5fe667",
   "metadata": {},
   "outputs": [],
   "source": []
  },
  {
   "cell_type": "code",
   "execution_count": null,
   "id": "2f1361b1",
   "metadata": {},
   "outputs": [],
   "source": [
    "df_btc['return_4h'] = (df_btc['Close']/df_btc['Close'].shift(4)) -1\n",
    "df_btc['return_8h'] = (df_btc['Close']/df_btc['Close'].shift(8)) -1\n",
    "df_btc['return_12h'] = (df_btc['Close']/df_btc['Close'].shift(12)) -1\n",
    "df_btc['return_16h'] = (df_btc['Close']/df_btc['Close'].shift(16)) -1\n",
    "df_btc['return_24h'] = (df_btc['Close']/df_btc['Close'].shift(24)) -1"
   ]
  },
  {
   "cell_type": "code",
   "execution_count": null,
   "id": "df774b1c",
   "metadata": {},
   "outputs": [],
   "source": [
    "df_btc.head()"
   ]
  },
  {
   "cell_type": "code",
   "execution_count": null,
   "id": "ba802d0b",
   "metadata": {},
   "outputs": [],
   "source": [
    "df_btc['return_1h'] = df_btc['return'].shift(-1)\n",
    "df_btc['return_4h'] = df_btc['return_4h'].shift(-4)\n",
    "df_btc['return_8h'] = df_btc['return_8h'].shift(-8)\n",
    "df_btc['return_12h'] = df_btc['return_12h'].shift(-12)\n",
    "df_btc['return_16h'] = df_btc['return_16h'].shift(-16)\n",
    "df_btc['return_24h'] = df_btc['return_24h'].shift(-24)"
   ]
  },
  {
   "cell_type": "code",
   "execution_count": null,
   "id": "925d8062",
   "metadata": {},
   "outputs": [],
   "source": [
    "df_btc.tail()"
   ]
  },
  {
   "cell_type": "code",
   "execution_count": null,
   "id": "f74e9dd1",
   "metadata": {},
   "outputs": [],
   "source": [
    "df_btc['date'] = pd.to_datetime(df_btc['date'])  "
   ]
  },
  {
   "cell_type": "code",
   "execution_count": null,
   "id": "8329f4c6",
   "metadata": {},
   "outputs": [],
   "source": [
    "oneday_btc = df_btc.iloc[35060: 35085, :]"
   ]
  },
  {
   "cell_type": "code",
   "execution_count": null,
   "id": "c941325f",
   "metadata": {},
   "outputs": [],
   "source": [
    "specific_date = pd.to_datetime('2022-01-01').date()\n",
    "df_btc[df_btc['date'].dt.date == specific_date]"
   ]
  },
  {
   "cell_type": "code",
   "execution_count": null,
   "id": "673a8ab3",
   "metadata": {},
   "outputs": [],
   "source": []
  },
  {
   "cell_type": "code",
   "execution_count": null,
   "id": "aa180387",
   "metadata": {},
   "outputs": [],
   "source": []
  },
  {
   "cell_type": "code",
   "execution_count": null,
   "id": "a562ecb8",
   "metadata": {},
   "outputs": [],
   "source": [
    "fig = go.Figure(data=go.Candlestick(x=oneday_btc['date'],\n",
    "                             open=oneday_btc['Open'],\n",
    "                             high=oneday_btc['High'],\n",
    "                             low=oneday_btc['Low'],\n",
    "                             close=oneday_btc['Close']))\n",
    "\n",
    "fig.update_layout(\n",
    "    title='Price behaviour of 1st Janunary',\n",
    "    yaxis_title='BTC price',\n",
    "    shapes = [dict(\n",
    "        x0='2022-01-01 04:00:00', x1='2022-01-01 04:00:00', y0=0, y1=1, xref='x', yref='paper',\n",
    "        line_width=2)],\n",
    "    annotations=[dict(\n",
    "        x='2022-01-01 04:00:00', y=0.05, xref='x', yref='paper',\n",
    "        showarrow=False, xanchor='left', text='price behaviour of 4h')]\n",
    ")\n",
    "\n",
    "fig.show()\n",
    "  \n",
    "# show the figure\n",
    "fig.show()"
   ]
  },
  {
   "cell_type": "code",
   "execution_count": null,
   "id": "1e85b1e4",
   "metadata": {},
   "outputs": [],
   "source": [
    "df_btc.loc[df_btc['date'].dt.hour==23]"
   ]
  },
  {
   "cell_type": "code",
   "execution_count": null,
   "id": "aaabaa5d",
   "metadata": {},
   "outputs": [],
   "source": [
    "df_btc.ta.ema(length=30, append=True)\n",
    "df_btc.ta.ema(length=10, append=True)"
   ]
  },
  {
   "cell_type": "code",
   "execution_count": null,
   "id": "d1fc0c0c",
   "metadata": {},
   "outputs": [],
   "source": [
    "df_btc['ema_buy_cross'] = df_btc['EMA_30'] < df_btc['EMA_10']\n",
    "df_btc['ema_buy'] = df_btc['EMA_30'] < df_btc['Close']"
   ]
  },
  {
   "cell_type": "code",
   "execution_count": null,
   "id": "697a3ba5",
   "metadata": {},
   "outputs": [],
   "source": [
    "df_btc"
   ]
  },
  {
   "cell_type": "code",
   "execution_count": null,
   "id": "bcb3dbe1",
   "metadata": {},
   "outputs": [],
   "source": [
    "df_btc['ema_buy'].value_counts() "
   ]
  },
  {
   "cell_type": "code",
   "execution_count": null,
   "id": "18dc66cf",
   "metadata": {},
   "outputs": [],
   "source": [
    "df_btc['ema_buy_cross'].value_counts() "
   ]
  },
  {
   "cell_type": "code",
   "execution_count": null,
   "id": "7a1ccd03",
   "metadata": {},
   "outputs": [],
   "source": [
    "df_btc['volume_ratio'] = df_btc[\"TakerBuyBaseAssetVolume\"]/df_btc[\"Volume\"]\n",
    "df_btc['price_spread_volume'] = (df_btc[\"High\"]-df_btc[\"Low\"])/df_btc[\"Volume\"]"
   ]
  },
  {
   "cell_type": "code",
   "execution_count": null,
   "id": "097c4f57",
   "metadata": {},
   "outputs": [],
   "source": []
  },
  {
   "cell_type": "code",
   "execution_count": null,
   "id": "205dfc6f",
   "metadata": {},
   "outputs": [],
   "source": [
    "df_btc = df_btc.drop(['Open', 'High', 'Low', 'TakerBuyBaseAssetVolume', 'return'], axis=1)"
   ]
  },
  {
   "cell_type": "code",
   "execution_count": null,
   "id": "bdf6ecbd",
   "metadata": {},
   "outputs": [],
   "source": []
  },
  {
   "cell_type": "code",
   "execution_count": null,
   "id": "eba04bf5",
   "metadata": {},
   "outputs": [],
   "source": [
    "df_btc.rename(columns={'Close': 'Price_1h', 'Volume': 'Volume_1h',\"NumberOfTrades\": \"NumberOfTrades_1h\", \"candlestick_rank\":\"candlestick_rank_1h\", \"candle\": \"candle_1h\" }, inplace=True)"
   ]
  },
  {
   "cell_type": "code",
   "execution_count": null,
   "id": "565f484d",
   "metadata": {},
   "outputs": [],
   "source": []
  },
  {
   "cell_type": "code",
   "execution_count": null,
   "id": "751bf25e",
   "metadata": {},
   "outputs": [],
   "source": [
    "list(df_btc.columns)\n"
   ]
  },
  {
   "cell_type": "code",
   "execution_count": null,
   "id": "61914a24",
   "metadata": {},
   "outputs": [],
   "source": [
    "df_day_end = df_btc.loc[df_btc['date'].dt.hour==23]"
   ]
  },
  {
   "cell_type": "code",
   "execution_count": null,
   "id": "8c6516ae",
   "metadata": {},
   "outputs": [],
   "source": [
    "df_day_end"
   ]
  },
  {
   "cell_type": "code",
   "execution_count": null,
   "id": "0da25fb2",
   "metadata": {},
   "outputs": [],
   "source": [
    "df_day_end[\"date\"] = df_day_end[\"date\"].dt.date"
   ]
  },
  {
   "cell_type": "code",
   "execution_count": null,
   "id": "6e288e22",
   "metadata": {},
   "outputs": [],
   "source": [
    "df_day_end"
   ]
  },
  {
   "cell_type": "code",
   "execution_count": null,
   "id": "a8e8d03f",
   "metadata": {},
   "outputs": [],
   "source": [
    "df_btc_1d"
   ]
  },
  {
   "cell_type": "code",
   "execution_count": null,
   "id": "5a34164b",
   "metadata": {},
   "outputs": [],
   "source": [
    "df_day_end.date=pd.to_datetime(df_day_end.date)\n",
    "df_btc_1d.date = pd.to_datetime(df_btc_1d.date)"
   ]
  },
  {
   "cell_type": "code",
   "execution_count": null,
   "id": "78b7c79f",
   "metadata": {},
   "outputs": [],
   "source": [
    "df_btc_1d['daily_ema'] = (df_btc_1d.ta.ema() > df_btc_1d['Close']).astype(int)\n"
   ]
  },
  {
   "cell_type": "code",
   "execution_count": null,
   "id": "9c5739da",
   "metadata": {},
   "outputs": [],
   "source": [
    "\n",
    "# Calculate spred_ema column with NaN values\n",
    "df_btc_1d['spred_ema'] = df_btc_1d.Close - df_btc_1d.ta.ema()\n",
    "\n",
    "# Replace NaN values with 0\n",
    "df_btc_1d['spred_ema'] = df_btc_1d['spred_ema'].fillna(0)\n",
    "\n",
    "# Convert spred_ema column to integers\n",
    "df_btc_1d['spred_ema'] = df_btc_1d['spred_ema'].astype(np.int64)"
   ]
  },
  {
   "cell_type": "code",
   "execution_count": null,
   "id": "d418711f",
   "metadata": {},
   "outputs": [],
   "source": [
    "df_merged = pd.merge(df_btc_1d, df_day_end, on='date')"
   ]
  },
  {
   "cell_type": "code",
   "execution_count": null,
   "id": "e32322f2",
   "metadata": {},
   "outputs": [],
   "source": [
    "df_merged['return_y'] = df_merged['return'].shift(-1)"
   ]
  },
  {
   "cell_type": "code",
   "execution_count": null,
   "id": "97ffd8f6",
   "metadata": {},
   "outputs": [],
   "source": [
    "df_merged['spred_ema']"
   ]
  },
  {
   "cell_type": "code",
   "execution_count": null,
   "id": "fe2fa89e",
   "metadata": {},
   "outputs": [],
   "source": [
    "df_merged.columns"
   ]
  },
  {
   "cell_type": "code",
   "execution_count": null,
   "id": "365fc829",
   "metadata": {},
   "outputs": [],
   "source": [
    "df_merged['candle'].value_counts() "
   ]
  },
  {
   "cell_type": "code",
   "execution_count": null,
   "id": "a601d37c",
   "metadata": {},
   "outputs": [],
   "source": [
    "df_merged['candle'].value_counts() "
   ]
  },
  {
   "cell_type": "code",
   "execution_count": null,
   "id": "0e1b5a4d",
   "metadata": {},
   "outputs": [],
   "source": [
    "df_candle_map = {'Bear': -1,'No': 0 ,'Bull': 1}\n",
    "df_merged['candle'] = df_merged['candle'].map(df_candle_map)\n",
    "df_merged['candle_1h'] = df_merged['candle_1h'].map(df_candle_map)\n",
    "df_merged['2h_candle_b'] = df_merged['2h_candle_b'].map(df_candle_map)\n",
    "df_merged['1h_candle_b'] = df_merged['1h_candle_b'].map(df_candle_map)\n",
    "df_merged['1h_candle_f'] = df_merged['1h_candle_f'].map(df_candle_map)"
   ]
  },
  {
   "cell_type": "code",
   "execution_count": null,
   "id": "e5c007c4",
   "metadata": {},
   "outputs": [],
   "source": [
    "df_merged['candle_p'] = df_merged['candle'] * df_merged['candlestick_rank']\n",
    "df_merged['candle_1h_p'] = df_merged['candle_1h'] * df_merged['candlestick_rank_1h']\n",
    "df_merged['2h_candle_b_p'] = df_merged['2h_candle_b'] * df_merged['2h_candle_rank_b']\n",
    "df_merged['1h_candle_b_p'] = df_merged['1h_candle_b']  * df_merged['1h_candle_rank_b']\n",
    "df_merged['1h_candle_f_p'] = df_merged['1h_candle_f'] * df_merged['1h_candle_rank_f']"
   ]
  },
  {
   "cell_type": "code",
   "execution_count": null,
   "id": "989cb63d",
   "metadata": {},
   "outputs": [],
   "source": [
    "df_merged.columns"
   ]
  },
  {
   "cell_type": "code",
   "execution_count": null,
   "id": "aaf9fbac",
   "metadata": {},
   "outputs": [],
   "source": [
    "df_merged"
   ]
  },
  {
   "cell_type": "code",
   "execution_count": null,
   "id": "bfa3c99e",
   "metadata": {
    "scrolled": true
   },
   "outputs": [],
   "source": [
    "df_merged.columns"
   ]
  },
  {
   "cell_type": "code",
   "execution_count": null,
   "id": "e223cd2d",
   "metadata": {},
   "outputs": [],
   "source": [
    "df_merged['return_4h'] = (df_merged['return_4h'] >= 0).astype(int)"
   ]
  },
  {
   "cell_type": "code",
   "execution_count": null,
   "id": "3cac9c91",
   "metadata": {},
   "outputs": [],
   "source": [
    "df_merged['return_8h'] = (df_merged['return_8h'] >= 0).astype(int)\n",
    "df_merged['return_12h'] = (df_merged['return_12h'] >= 0).astype(int)\n",
    "df_merged['return_16h'] = (df_merged['return_16h'] >= 0).astype(int)\n",
    "df_merged['return_24h'] = (df_merged['return_24h'] >= 0).astype(int)\n",
    "df_merged['return_y'] = (df_merged['return_y'] >= 0).astype(int)"
   ]
  },
  {
   "cell_type": "code",
   "execution_count": null,
   "id": "df8309e6",
   "metadata": {},
   "outputs": [],
   "source": [
    "df_merged['ema_buy']= df_merged['ema_buy'].astype(int)"
   ]
  },
  {
   "cell_type": "code",
   "execution_count": null,
   "id": "093faf0d",
   "metadata": {},
   "outputs": [],
   "source": [
    "df_merged['ema_buy_cross'] = df_merged['ema_buy_cross'].astype(int)"
   ]
  },
  {
   "cell_type": "code",
   "execution_count": null,
   "id": "0b4371ec",
   "metadata": {},
   "outputs": [],
   "source": [
    "df_merged['return_4h']"
   ]
  },
  {
   "cell_type": "code",
   "execution_count": null,
   "id": "db465603",
   "metadata": {},
   "outputs": [],
   "source": [
    "# drop candlestict data\n",
    "df_merged = df_merged.drop(['candlestick_rank_1h',\n",
    "       'candle_1h', '2h_candle_b', '2h_candle_rank_b', '1h_candle_b',\n",
    "       '1h_candle_rank_b', '1h_candle_f', '1h_candle_rank_f',], axis=1)\n",
    "\n"
   ]
  },
  {
   "cell_type": "code",
   "execution_count": null,
   "id": "1e0ae25d",
   "metadata": {},
   "outputs": [],
   "source": []
  },
  {
   "cell_type": "code",
   "execution_count": null,
   "id": "30eeae7e",
   "metadata": {},
   "outputs": [],
   "source": [
    "df_merged.columns"
   ]
  },
  {
   "cell_type": "code",
   "execution_count": null,
   "id": "33e5bc57",
   "metadata": {},
   "outputs": [],
   "source": []
  },
  {
   "cell_type": "code",
   "execution_count": null,
   "id": "f1ee70c2",
   "metadata": {},
   "outputs": [],
   "source": [
    "df_merged_to_model = df_merged.drop(['Open', 'High', 'Low', 'returnz_n', 'candlestick_pattern', 'return_y'], axis=1)\n",
    "\n"
   ]
  },
  {
   "cell_type": "code",
   "execution_count": null,
   "id": "f5561856",
   "metadata": {},
   "outputs": [],
   "source": [
    "df_merged_to_model = df_merged_to_model.iloc[1: , :]\n",
    "df_merged_to_model"
   ]
  },
  {
   "cell_type": "code",
   "execution_count": null,
   "id": "c6659c8e",
   "metadata": {},
   "outputs": [],
   "source": [
    "#creating the correlation matrix\n",
    "matrix = df_merged_to_model.corr()\n",
    "# sns.heatmap(matrix)\n",
    "fig, ax = plt.subplots(figsize=(12,8))\n",
    "sns.heatmap(matrix, linewidths=.5, ax=ax, cmap=plt.cm.CMRmap_r)\n",
    "\n",
    "plt.title(\"Correlation matrix \")\n",
    "plt.show()"
   ]
  },
  {
   "cell_type": "code",
   "execution_count": null,
   "id": "69db62da",
   "metadata": {},
   "outputs": [],
   "source": [
    "df_merged_to_model.columns"
   ]
  },
  {
   "cell_type": "code",
   "execution_count": null,
   "id": "59dd526d",
   "metadata": {},
   "outputs": [],
   "source": [
    "df_merged_to_model['return_1h']"
   ]
  },
  {
   "cell_type": "code",
   "execution_count": null,
   "id": "b303e021",
   "metadata": {},
   "outputs": [],
   "source": [
    "x_sm = df_merged_to_model[['Close', 'Volume', 'NumberOfTrades',\n",
    "       'return', 'day_of_month', 'month', 'week_day', 'spred_ema',\n",
    "        'candlestick_rank', 'candle',  'ema_buy', 'ema_buy_cross'\n",
    "       , 'Volume_1h', 'NumberOfTrades_1h', 'RSI_14', 'volume_ratio', 'price_spread_volume', 'candle_p',\n",
    "       'candle_1h_p', '2h_candle_b_p', '1h_candle_b_p', '1h_candle_f_p']]\n"
   ]
  },
  {
   "cell_type": "code",
   "execution_count": null,
   "id": "8d294a32",
   "metadata": {},
   "outputs": [],
   "source": [
    "y_sm = df_merged_to_model['return_4h']"
   ]
  },
  {
   "cell_type": "code",
   "execution_count": null,
   "id": "d94d0fca",
   "metadata": {},
   "outputs": [],
   "source": [
    "y_sm.unique"
   ]
  },
  {
   "cell_type": "code",
   "execution_count": null,
   "id": "78e08d9a",
   "metadata": {},
   "outputs": [],
   "source": []
  },
  {
   "cell_type": "code",
   "execution_count": null,
   "id": "13f69174",
   "metadata": {},
   "outputs": [],
   "source": [
    "x_train, x_test, y_train, y_test = train_test_split(x_sm, y_sm, test_size=0.2, random_state=55)\n",
    "model = LogisticRegression()\n",
    "model.fit(x_train, y_train)"
   ]
  },
  {
   "cell_type": "code",
   "execution_count": null,
   "id": "3f2c5e24",
   "metadata": {},
   "outputs": [],
   "source": [
    "y_predicted = model.predict(x_test)\n",
    "accuracy = accuracy_score(y_test, y_predicted)\n",
    "print(f'Accuracy: {accuracy}')\n",
    "precision = precision_score(y_test, y_predicted)\n",
    "print(f'Precision: {precision}')\n",
    "recall = recall_score(y_test, y_predicted)\n",
    "print(f'Recall: {recall}')\n",
    "f1 = f1_score(y_test, y_predicted)\n",
    "print(f'F1 score: {f1}')\n",
    "r2 = f1_score(y_test, y_predicted)\n",
    "print(f'R2 score: {r2}')"
   ]
  },
  {
   "cell_type": "code",
   "execution_count": null,
   "id": "d21e7975",
   "metadata": {},
   "outputs": [],
   "source": [
    "sns.heatmap(confusion_matrix(y_test,y_predicted),annot=True,fmt=\"g\")\n",
    "plt.xlabel(\"Predicted\")\n",
    "plt.ylabel(\"Actual\")\n",
    "plt.show()"
   ]
  },
  {
   "cell_type": "code",
   "execution_count": null,
   "id": "eeeeeb43",
   "metadata": {},
   "outputs": [],
   "source": [
    "accuracy_L=(np.diag(confusion_matrix(y_test,y_predicted)).sum())/len(y_test)\n",
    "accuracy_L"
   ]
  },
  {
   "cell_type": "code",
   "execution_count": null,
   "id": "2103bb92",
   "metadata": {},
   "outputs": [],
   "source": [
    "print(\"Accuracy of Logistic Regression:\",accuracy_L,'\\n')\n",
    "print(classification_report(y_test,y_predicted))"
   ]
  },
  {
   "cell_type": "code",
   "execution_count": null,
   "id": "6380aeb3",
   "metadata": {},
   "outputs": [],
   "source": [
    "\n"
   ]
  },
  {
   "cell_type": "code",
   "execution_count": null,
   "id": "53e646fd",
   "metadata": {},
   "outputs": [],
   "source": [
    "x_train, x_test, y_train, y_test = train_test_split(x_sm, y_sm, test_size=0.2, random_state=1)\n",
    "\n",
    "rf_model = RandomForestClassifier(n_estimators=100, random_state=42)\n",
    "rf_model.fit(x_train, y_train)\n",
    "rf_y_predicted = rf_model.predict(x_test)\n",
    "\n",
    "rf_accuracy = accuracy_score(y_test, rf_y_predicted)\n",
    "print(f'Accuracy: {rf_accuracy}')\n",
    "rf_precision = precision_score(y_test, rf_y_predicted)\n",
    "print(f'Precision: {rf_precision}')\n",
    "rf_recall = recall_score(y_test, rf_y_predicted)\n",
    "print(f'Recall: {rf_recall}')\n",
    "rf_f1 = f1_score(y_test, rf_y_predicted)\n",
    "print(f'F1 score: {rf_f1}')\n",
    "rf_r2 = r2_score(y_test, rf_y_predicted)\n",
    "print(f'R2 score: {rf_r2}')"
   ]
  },
  {
   "cell_type": "code",
   "execution_count": null,
   "id": "8b49811d",
   "metadata": {
    "scrolled": false
   },
   "outputs": [],
   "source": [
    "sns.heatmap(confusion_matrix(y_test,rf_y_predicted),annot=True,fmt=\"g\")\n",
    "plt.xlabel(\"Predicted\")\n",
    "plt.ylabel(\"Actual\")\n",
    "plt.show()"
   ]
  },
  {
   "cell_type": "code",
   "execution_count": null,
   "id": "e61c91f0",
   "metadata": {},
   "outputs": [],
   "source": [
    "print(\"Accuracy of Random Forest Classifier:\",accuracy_L,'\\n')\n",
    "print(classification_report(y_test,rf_y_predicted))"
   ]
  },
  {
   "cell_type": "code",
   "execution_count": null,
   "id": "ff3e3c91",
   "metadata": {},
   "outputs": [],
   "source": [
    "from sklearn.neighbors import KNeighborsClassifier\n"
   ]
  },
  {
   "cell_type": "code",
   "execution_count": null,
   "id": "266d2481",
   "metadata": {},
   "outputs": [],
   "source": [
    "# from sklearn import svm\n",
    "\n",
    "# x_train, x_test, y_train, y_test = train_test_split(x_sm, y_sm, test_size=0.2, random_state=1)\n",
    "\n",
    "# svm_model = svm.SVC(kernel='linear', random_state=42)\n",
    "# svm_model.fit(x_train, y_train)\n",
    "# svm_y_predicted = svm_model.predict(x_test)\n",
    "\n",
    "# svm_accuracy = accuracy_score(y_test, svm_y_predicted)\n",
    "# print(f'Accuracy: {svm_accuracy}')\n",
    "# svm_precision = precision_score(y_test, svm_y_predicted)\n",
    "# print(f'Precision: {svm_precision}')\n",
    "# svm_recall = recall_score(y_test, svm_y_predicted)\n",
    "# print(f'Recall: {svm_recall}')\n",
    "# svm_f1 = f1_score(y_test, svm_y_predicted)\n",
    "# print(f'F1 score: {svm_f1}')\n",
    "# svm_r2 = r2_score(y_test, svm_y_predicted)\n",
    "# print(f'R2 score: {svm_r2}')"
   ]
  }
 ],
 "metadata": {
  "kernelspec": {
   "display_name": "Python 3 (ipykernel)",
   "language": "python",
   "name": "python3"
  },
  "language_info": {
   "codemirror_mode": {
    "name": "ipython",
    "version": 3
   },
   "file_extension": ".py",
   "mimetype": "text/x-python",
   "name": "python",
   "nbconvert_exporter": "python",
   "pygments_lexer": "ipython3",
   "version": "3.9.13"
  }
 },
 "nbformat": 4,
 "nbformat_minor": 5
}
